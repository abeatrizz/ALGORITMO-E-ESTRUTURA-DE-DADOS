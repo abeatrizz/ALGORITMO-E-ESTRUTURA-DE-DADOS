{
 "cells": [
  {
   "cell_type": "code",
   "execution_count": 10,
   "metadata": {},
   "outputs": [
    {
     "name": "stdout",
     "output_type": "stream",
     "text": [
      "O valor do imposto foi: R$ 330.0\n"
     ]
    }
   ],
   "source": [
    "#Taxa de 1% para carros antes de 1990 e uma taxa de 1.5% de 1990 em diante\n",
    "#Lê o ano e o preço do carro\n",
    "#Calcular e imprimir o imposto a ser pago\n",
    "\n",
    "anoCar= int(input(\"Informe o ano do seu carro\"))\n",
    "valorCar= float(input(\"Informe o valor do seu carro\"))\n",
    "\n",
    "taxa1= 1/100\n",
    "taxa2= 1.5/100\n",
    "if (anoCar < 1990):\n",
    "    imposto = valorCar * taxa1\n",
    "    print(\"O valor do imposto foi: R$\",imposto)\n",
    "else:\n",
    "    imposto2 = valorCar * taxa2\n",
    "    print(\"O valor do imposto foi: R$\",imposto2)\n"
   ]
  },
  {
   "cell_type": "code",
   "execution_count": 26,
   "metadata": {},
   "outputs": [
    {
     "name": "stdout",
     "output_type": "stream",
     "text": [
      "O salário atual é: R$ 2100.0\n",
      "O novo salário será: R$ 2940.0\n",
      "A diferença entre os valores foi: R$ 840.0\n"
     ]
    }
   ],
   "source": [
    "#lê o valor do salário e cargo\n",
    "salario= float(input(\"Informe o seu salário atual\"))\n",
    "cargo= (input(\"Informe o seu cargo atual\"))\n",
    "\n",
    "#calcule o novo salário se não estiver na tabela deverá ser 40% de aumento, mostrar valor antigo, valor novo e diferença\n",
    "cargo101 = 10/100\n",
    "cargo102 = 20/100\n",
    "cargo103 = 30/100\n",
    "cargo104 = 40/100\n",
    "\n",
    "if cargo == \"Gerente\":\n",
    "    aumento1 = (salario * cargo101) + salario\n",
    "    diferenca1 = aumento1 - salario\n",
    "    print(\"O salário atual é: R$\",salario)\n",
    "    print(\"O novo salário será: R$\",aumento1)\n",
    "    print(\"A diferença entre os valores foi: R$\",diferenca1)\n",
    "elif cargo == \"Engenheiro\":\n",
    "    aumento2 = (salario * cargo102) + salario\n",
    "    diferenca2 = aumento2 - salario\n",
    "    print(\"O salário atual é: R$\",salario)\n",
    "    print(\"O novo salário será: R$\",aumento2)\n",
    "    print(\"A diferença entre os valores foi: R$\",diferenca2)\n",
    "elif cargo == \"Técnico\":\n",
    "    aumento3 = (salario * cargo103) + salario\n",
    "    diferenca3 = aumento3 - salario\n",
    "    print(\"O salário atual é: R$\",salario)\n",
    "    print(\"O novo salário será: R$\",aumento3)\n",
    "    print(\"A diferença entre os valores foi: R$\",diferenca3)\n",
    "else:\n",
    "    aumento4 = (salario * cargo104) + salario\n",
    "    diferenca4 = aumento4 - salario\n",
    "    print(\"O salário atual é: R$\",salario)\n",
    "    print(\"O novo salário será: R$\",aumento4)\n",
    "    print(\"A diferença entre os valores foi: R$\",diferenca4)"
   ]
  }
 ],
 "metadata": {
  "kernelspec": {
   "display_name": "Python 3",
   "language": "python",
   "name": "python3"
  },
  "language_info": {
   "codemirror_mode": {
    "name": "ipython",
    "version": 3
   },
   "file_extension": ".py",
   "mimetype": "text/x-python",
   "name": "python",
   "nbconvert_exporter": "python",
   "pygments_lexer": "ipython3",
   "version": "3.9.13"
  }
 },
 "nbformat": 4,
 "nbformat_minor": 2
}
