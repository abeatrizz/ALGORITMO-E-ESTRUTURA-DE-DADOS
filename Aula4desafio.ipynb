{
 "cells": [
  {
   "cell_type": "code",
   "execution_count": 1,
   "metadata": {},
   "outputs": [
    {
     "name": "stdout",
     "output_type": "stream",
     "text": [
      "A multa por excesso foi: R$ 24.0\n"
     ]
    }
   ],
   "source": [
    "#Permitido limite de 50kg\n",
    "#Multa por kg excedido 4,00\n",
    "#Gravar na variável o excesso a quantidade de kg\n",
    "peso= float(input(\"Informe o peso:\"))\n",
    "\n",
    "limite=  50\n",
    "excesso= peso - limite\n",
    "multa= 4\n",
    "\n",
    "if (excesso >= 1):\n",
    "    total = excesso * multa\n",
    "    print(\"A multa por excesso foi: R$\",total)\n",
    "else:\n",
    "    print(\"Não houve excesso\")"
   ]
  }
 ],
 "metadata": {
  "kernelspec": {
   "display_name": "Python 3",
   "language": "python",
   "name": "python3"
  },
  "language_info": {
   "codemirror_mode": {
    "name": "ipython",
    "version": 3
   },
   "file_extension": ".py",
   "mimetype": "text/x-python",
   "name": "python",
   "nbconvert_exporter": "python",
   "pygments_lexer": "ipython3",
   "version": "3.12.1"
  }
 },
 "nbformat": 4,
 "nbformat_minor": 2
}
