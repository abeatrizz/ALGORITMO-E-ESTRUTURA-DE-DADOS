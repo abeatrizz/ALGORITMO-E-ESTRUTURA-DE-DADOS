{
 "cells": [
  {
   "cell_type": "code",
   "execution_count": 43,
   "metadata": {},
   "outputs": [
    {
     "name": "stdout",
     "output_type": "stream",
     "text": [
      "[76, 92.3, 'oi', True, 4, ('pitomba', 76)]\n"
     ]
    }
   ],
   "source": [
    "minhaLista = [76, 92.3,'oi', True, 4 ,76]\n",
    "#Inserir pitomba e 76 no final\n",
    "minhaLista[5] = 'pitomba', 76\n",
    "print(minhaLista)\n",
    "\n"
   ]
  },
  {
   "cell_type": "code",
   "execution_count": 45,
   "metadata": {},
   "outputs": [
    {
     "name": "stdout",
     "output_type": "stream",
     "text": [
      "[76, 92.3, 'oi', (True, 'Cibele'), 4, ('pitomba', 76)]\n"
     ]
    }
   ],
   "source": [
    "#inserir o valor Cibele na posição 3\n",
    "minhaLista[3] = True, 'Cibele'\n",
    "print(minhaLista)"
   ]
  },
  {
   "cell_type": "code",
   "execution_count": 47,
   "metadata": {},
   "outputs": [
    {
     "name": "stdout",
     "output_type": "stream",
     "text": [
      "[(99, 76), 92.3, 'oi', (True, 'Cibele'), 4, ('pitomba', 76)]\n"
     ]
    }
   ],
   "source": [
    "#inserir o valor 99 no inicio\n",
    "minhaLista[0] = 99, 76\n",
    "print(minhaLista)"
   ]
  },
  {
   "cell_type": "code",
   "execution_count": 57,
   "metadata": {},
   "outputs": [
    {
     "name": "stdout",
     "output_type": "stream",
     "text": [
      "True o oi está no índice 2\n"
     ]
    }
   ],
   "source": [
    "#encontrar p índice de \"oi\"\n",
    "\n",
    "if minhaLista[0] == 'oi':\n",
    "    print(True, \"o oi está no índice 0\")\n",
    "elif minhaLista[1] == 'oi':\n",
    "    print(True, 'o oi está no índice 1')\n",
    "elif minhaLista[2] == 'oi':\n",
    "    print(True, 'o oi está no índice 2')\n",
    "elif minhaLista[3] == 'oi':\n",
    "    print(True, 'o oi está no índice 3')\n",
    "elif minhaLista[4] == 'oi':\n",
    "    print(True, 'o oi está no índice 4')\n",
    "elif minhaLista[5] == 'oi':\n",
    "    print(True, 'o oi está no índice 5')\n",
    "elif minhaLista[6] == 'oi':\n",
    "    print(True, 'o oi está no índice 6')\n",
    "elif minhaLista[7] == 'oi':\n",
    "    print(True,'o oi está no índice 7')\n",
    "elif minhaLista[8] == 'oi':\n",
    "    print(True,'o oi está no índice 8')\n",
    "else: \n",
    "    minhaLista[9] == 'oi'\n",
    "    print(True,'o oi está no índice 9')"
   ]
  }
 ],
 "metadata": {
  "kernelspec": {
   "display_name": "Python 3",
   "language": "python",
   "name": "python3"
  },
  "language_info": {
   "codemirror_mode": {
    "name": "ipython",
    "version": 3
   },
   "file_extension": ".py",
   "mimetype": "text/x-python",
   "name": "python",
   "nbconvert_exporter": "python",
   "pygments_lexer": "ipython3",
   "version": "3.11.4"
  }
 },
 "nbformat": 4,
 "nbformat_minor": 2
}
