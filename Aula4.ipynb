{
 "cells": [
  {
   "cell_type": "code",
   "execution_count": 1,
   "metadata": {},
   "outputs": [
    {
     "name": "stdout",
     "output_type": "stream",
     "text": [
      "Seu número informado foi: 10\n"
     ]
    }
   ],
   "source": [
    "num= int(input(\"Informe um número:\"))\n",
    "print (\"Seu número informado foi:\", num)"
   ]
  },
  {
   "cell_type": "code",
   "execution_count": null,
   "metadata": {},
   "outputs": [],
   "source": [
    "num1= int(input(\"Informe um número:\"))\n",
    "num2= int(input(\"Informe um número:\"))\n",
    "soma = num1 + num2\n",
    "print(soma)"
   ]
  },
  {
   "cell_type": "code",
   "execution_count": null,
   "metadata": {},
   "outputs": [],
   "source": [
    "nota1= int(input(\"Informe a primeira nota:\"))\n",
    "nota2= int(input(\"Informe a segunda nota:\"))\n",
    "nota3= int(input(\"Informe a terceira nota:\"))\n",
    "\n",
    "soma = nota1 + nota2 + nota3\n",
    "media = soma/3\n",
    "print (\"A média das notas é:\", media)"
   ]
  },
  {
   "cell_type": "code",
   "execution_count": null,
   "metadata": {},
   "outputs": [],
   "source": [
    "valor= float(input(\"Quanto você ganha por hora?\"))\n",
    "horas= int(input(\"Quantas horas são trabalhadas no mês?\"))\n",
    "\n",
    "total = valor * horas\n",
    "print (\"O valor do salário do mês é: R$\",total)"
   ]
  }
 ],
 "metadata": {
  "kernelspec": {
   "display_name": "Python 3",
   "language": "python",
   "name": "python3"
  },
  "language_info": {
   "codemirror_mode": {
    "name": "ipython",
    "version": 3
   },
   "file_extension": ".py",
   "mimetype": "text/x-python",
   "name": "python",
   "nbconvert_exporter": "python",
   "pygments_lexer": "ipython3",
   "version": "3.11.4"
  }
 },
 "nbformat": 4,
 "nbformat_minor": 2
}
