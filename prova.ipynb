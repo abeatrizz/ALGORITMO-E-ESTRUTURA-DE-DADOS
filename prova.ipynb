{
 "cells": [
  {
   "cell_type": "code",
   "execution_count": 4,
   "metadata": {},
   "outputs": [
    {
     "name": "stdout",
     "output_type": "stream",
     "text": [
      "E é uma vogal.\n"
     ]
    }
   ],
   "source": [
    "#programa que verifica se uma letra digitada é vogal ou consoante\n",
    "letra= (input(\"Informe a letra:\"))\n",
    "vogais = ['a', 'e', 'i', 'o', 'u', 'A', 'E', 'I', 'O', 'U']\n",
    "\n",
    "if letra in vogais:\n",
    "        print(letra, \"é uma vogal.\")\n",
    "else:\n",
    "        print(letra, \"é uma consoante.\")"
   ]
  },
  {
   "cell_type": "code",
   "execution_count": 20,
   "metadata": {},
   "outputs": [
    {
     "name": "stdout",
     "output_type": "stream",
     "text": [
      "10 O terceiro valor é o ideal para compra.\n"
     ]
    }
   ],
   "source": [
    "#programa que pergunta o preço de três produto\n",
    "valor1= int(input(\"Informe o primeiro valor:\"))\n",
    "valor2= int(input(\"Informe o segundo valor:\"))\n",
    "valor3= int(input(\"Informe o terceiro valor:\"))\n",
    "\n",
    "#verificar qual produto se deve comprar\n",
    "if (valor1 < valor2 and valor1 < valor3):\n",
    "        print(valor1, \"O primeiro valor é o ideal para compra.\")\n",
    "elif (valor2 < valor1 and valor2 < valor3):\n",
    "        print(valor2, \"O segundo valor é o ideal para compra.\")    \n",
    "else:\n",
    "        print(valor3, \"O terceiro valor é o ideal para compra.\") "
   ]
  },
  {
   "cell_type": "code",
   "execution_count": 27,
   "metadata": {},
   "outputs": [
    {
     "name": "stdout",
     "output_type": "stream",
     "text": [
      "Números em ordem decrescente: [80, 5, 3]\n"
     ]
    }
   ],
   "source": [
    "#programa que lê três números\n",
    "num1 = int(input(\"Digite o primeiro número: \"))\n",
    "num2 = int(input(\"Digite o segundo número: \"))\n",
    "num3 = int(input(\"Digite o terceiro número: \"))\n",
    "\n",
    "#colocar em ordem decrescente\n",
    "numeros = [num1, num2, num3]\n",
    "\n",
    "ordemDecrescente = sorted(numeros, reverse=True)\n",
    "\n",
    "print(\"Números em ordem decrescente:\", ordemDecrescente)\n",
    "\n",
    "\n"
   ]
  },
  {
   "cell_type": "code",
   "execution_count": 35,
   "metadata": {},
   "outputs": [
    {
     "name": "stdout",
     "output_type": "stream",
     "text": [
      "Boa noite\n"
     ]
    }
   ],
   "source": [
    "#perguntar que turno você estuda\n",
    "turno = (input(\"Digite o turno que você estuda sendo M para matutino, V para vespertino ou N para noturno número: \"))\n",
    "\n",
    "if turno == 'M':\n",
    "        print(\"Bom dia\")\n",
    "elif turno == 'V':\n",
    "        print(\"Boa tarde\") \n",
    "elif turno == 'N':\n",
    "        print(\"Boa noite\")    \n",
    "else:\n",
    "        print(\"Valor inválido. Por favor, digite M, V ou N.\") "
   ]
  }
 ],
 "metadata": {
  "kernelspec": {
   "display_name": "Python 3",
   "language": "python",
   "name": "python3"
  },
  "language_info": {
   "codemirror_mode": {
    "name": "ipython",
    "version": 3
   },
   "file_extension": ".py",
   "mimetype": "text/x-python",
   "name": "python",
   "nbconvert_exporter": "python",
   "pygments_lexer": "ipython3",
   "version": "3.11.9"
  }
 },
 "nbformat": 4,
 "nbformat_minor": 2
}
