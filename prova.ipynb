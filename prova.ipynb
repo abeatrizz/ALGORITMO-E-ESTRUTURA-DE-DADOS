{
 "cells": [
  {
   "cell_type": "code",
   "execution_count": 4,
   "metadata": {},
   "outputs": [
    {
     "name": "stdout",
     "output_type": "stream",
     "text": [
      "E é uma vogal.\n"
     ]
    }
   ],
   "source": [
    "#programa que verifica se uma letra digitada é vogal ou consoante\n",
    "letra= (input(\"Informe a letra:\"))\n",
    "vogais = ['a', 'e', 'i', 'o', 'u', 'A', 'E', 'I', 'O', 'U']\n",
    "\n",
    "if letra in vogais:\n",
    "        print(letra, \"é uma vogal.\")\n",
    "else:\n",
    "        print(letra, \"é uma consoante.\")"
   ]
  },
  {
   "cell_type": "code",
   "execution_count": 20,
   "metadata": {},
   "outputs": [
    {
     "name": "stdout",
     "output_type": "stream",
     "text": [
      "10 O terceiro valor é o ideal para compra.\n"
     ]
    }
   ],
   "source": [
    "#programa que pergunta o preço de três produto\n",
    "valor1= int(input(\"Informe o primeiro valor:\"))\n",
    "valor2= int(input(\"Informe o segundo valor:\"))\n",
    "valor3= int(input(\"Informe o terceiro valor:\"))\n",
    "\n",
    "#verificar qual produto se deve comprar\n",
    "if (valor1 < valor2 and valor1 < valor3):\n",
    "        print(valor1, \"O primeiro valor é o ideal para compra.\")\n",
    "elif (valor2 < valor1 and valor2 < valor3):\n",
    "        print(valor2, \"O segundo valor é o ideal para compra.\")    \n",
    "else:\n",
    "        print(valor3, \"O terceiro valor é o ideal para compra.\") "
   ]
  },
  {
   "cell_type": "code",
   "execution_count": 27,
   "metadata": {},
   "outputs": [
    {
     "name": "stdout",
     "output_type": "stream",
     "text": [
      "Números em ordem decrescente: [80, 5, 3]\n"
     ]
    }
   ],
   "source": [
    "#programa que lê três números\n",
    "num1 = int(input(\"Digite o primeiro número: \"))\n",
    "num2 = int(input(\"Digite o segundo número: \"))\n",
    "num3 = int(input(\"Digite o terceiro número: \"))\n",
    "\n",
    "#colocar em ordem decrescente\n",
    "numeros = [num1, num2, num3]\n",
    "\n",
    "ordemDecrescente = sorted(numeros, reverse=True)\n",
    "\n",
    "print(\"Números em ordem decrescente:\", ordemDecrescente)\n",
    "\n",
    "\n"
   ]
  },
  {
   "cell_type": "code",
   "execution_count": 35,
   "metadata": {},
   "outputs": [
    {
     "name": "stdout",
     "output_type": "stream",
     "text": [
      "Boa noite\n"
     ]
    }
   ],
   "source": [
    "#perguntar que turno você estuda\n",
    "turno = (input(\"Digite o turno que você estuda sendo M para matutino, V para vespertino ou N para noturno número: \"))\n",
    "\n",
    "#imprimir a mensagem de acordo com o turno\n",
    "if turno == 'M':\n",
    "        print(\"Bom dia\")\n",
    "elif turno == 'V':\n",
    "        print(\"Boa tarde\") \n",
    "elif turno == 'N':\n",
    "        print(\"Boa noite\")    \n",
    "else:\n",
    "        print(\"Valor inválido. Por favor, digite M, V ou N.\") "
   ]
  },
  {
   "cell_type": "code",
   "execution_count": 9,
   "metadata": {},
   "outputs": [
    {
     "name": "stdout",
     "output_type": "stream",
     "text": [
      "O número 7 corresponde a sábado\n"
     ]
    }
   ],
   "source": [
    "#lê um número\n",
    "diaSemana = int(input(\"Digite um número entre 1 e 7:\" ))\n",
    "\n",
    "#exibir o dia da semana correspondente\n",
    "if diaSemana == 1:\n",
    "        print(\"O número 1 corresponde ao domingo\")\n",
    "elif diaSemana == 2:\n",
    "        print(\"O número 2 corresponde a segunda-feira\")\n",
    "elif diaSemana == 3:\n",
    "        print(\"O número 3 corresponde a terça-feira\")  \n",
    "elif diaSemana == 4:\n",
    "        print(\"O número 4 corresponde a quarta-feira\")\n",
    "elif diaSemana == 5:\n",
    "        print(\"O número 5 corresponde a quinta-feira\")\n",
    "elif diaSemana == 6:\n",
    "        print(\"O número 6 corresponde a sexta-feira\")  \n",
    "elif diaSemana == 7:\n",
    "        print(\"O número 7 corresponde a sábado\")  \n",
    "else:\n",
    "        print(\"Valor inválido. Por favor, digite um número entre 1 e 7\") \n"
   ]
  },
  {
   "cell_type": "code",
   "execution_count": 26,
   "metadata": {},
   "outputs": [
    {
     "name": "stdout",
     "output_type": "stream",
     "text": [
      "O seu conceito foi C e você foi APROVADO com média: 6.85\n",
      "Nota 1: 7.5\n",
      "Nota 2: 6.2\n"
     ]
    }
   ],
   "source": [
    "\n",
    "#lê duas notas\n",
    "nota1= float(input(\"Informe a primeira nota:\"))\n",
    "nota2= float(input(\"Informe a segunda nota:\"))\n",
    "\n",
    "#calcúlo da média\n",
    "soma = nota1 + nota2\n",
    "media = soma/2\n",
    "\n",
    "#imprimir conceito, mensagem e média\n",
    "if media >= 9.0 and media <= 10.0:\n",
    "    print(\"O seu conceito foi A e você foi APROVADO com média:\", media)\n",
    "elif media >= 7.5 and media < 9.0:\n",
    "    print(\"O seu conceito foi B e você foi APROVADO com média:\", media)\n",
    "elif media >= 6.0 and media < 7.5:\n",
    "    print(\"O seu conceito foi C e você foi APROVADO com média:\", media)\n",
    "elif media >= 4.0 and media < 6.0:\n",
    "    print(\"O seu conceito foi D e você foi REPROVADO com média:\", media)\n",
    "elif media >= 0.0 and media < 4.0:\n",
    "    print(\"O seu conceito foi E e você foi REPROVADO com média:\", media)\n",
    "else:\n",
    "    print(\"Média inválida\")\n",
    "\n",
    "# imprimir as notas\n",
    "print(\"Nota 1:\", nota1)\n",
    "print(\"Nota 2:\", nota2)"
   ]
  },
  {
   "cell_type": "code",
   "execution_count": 30,
   "metadata": {},
   "outputs": [
    {
     "name": "stdout",
     "output_type": "stream",
     "text": [
      "2001 não é um ano bissexto.\n"
     ]
    }
   ],
   "source": [
    "#pedir um número correspondente a um determinado ano\n",
    "ano= int(input(\"Informe o ano:\"))\n",
    "\n",
    "#informar se é bissexto ou não\n",
    "if (ano % 4 == 0 and ano % 100 != 0) or (ano % 400 == 0):\n",
    "    print(ano, \"é um ano bissexto.\")\n",
    "else:\n",
    "    print(ano, \"não é um ano bissexto.\")\n"
   ]
  },
  {
   "cell_type": "code",
   "execution_count": 40,
   "metadata": {},
   "outputs": [
    {
     "name": "stdout",
     "output_type": "stream",
     "text": [
      "Resultado: 3.5\n",
      "O resultado da operação é um número ímpar.\n",
      "O resultado da operação é um número positivo.\n",
      "O resultado da operação é um número decimal.\n"
     ]
    }
   ],
   "source": [
    "#lê dois números \n",
    "num1= float(input(\"Informe o primeiro número:\"))\n",
    "num2= float(input(\"Informe o segundo número\"))\n",
    "\n",
    "#perguntar ao usuário qual operação básica deseja realizar\n",
    "\n",
    "operacao= (input(\"Informe qual operação deseja realizar com os números (adição, subtração, multiplicação, divisão, exponenciação):\"))\n",
    "\n",
    "if operacao == \"adição\":\n",
    "    resultado = num1 + num2\n",
    "elif operacao == \"subtração\":\n",
    "      resultado = num1 - num2\n",
    "elif operacao == \"multiplicação\":\n",
    "      resultado = num1 * num2\n",
    "elif operacao == \"divisão\":\n",
    "    if num2 == 0:\n",
    "        resultado = \"Erro: divisão por zero!\"\n",
    "    else:\n",
    "        resultado = num1 / num2\n",
    "elif operacao == \"exponenciação\":\n",
    "      resultado = num1 ** num2\n",
    "else:\n",
    "        print(\"Valor inválido.\") \n",
    "\n",
    "# Exibe o resultado\n",
    "print(\"Resultado:\", resultado)\n",
    "\n",
    "#dizer se o número é par ou impar, positivo ou negativo e inteiro ou decimal\n",
    "if resultado % 2 == 0:\n",
    "    print(\"O resultado da operação é um número par.\")\n",
    "else:\n",
    "    print(\"O resultado da operação é um número ímpar.\")\n",
    "if resultado >= 0:\n",
    "    print(\"O resultado da operação é um número positivo.\")\n",
    "else:\n",
    "    print(\"O resultado da operação é um número negativo.\")\n",
    "if resultado == int(resultado):\n",
    "    print(\"O resultado da operação é um número inteiro.\")\n",
    "else:\n",
    "    print(\"O resultado da operação é um número decimal.\")\n",
    "\n"
   ]
  },
  {
   "cell_type": "code",
   "execution_count": 42,
   "metadata": {},
   "outputs": [
    {
     "name": "stdout",
     "output_type": "stream",
     "text": [
      "A idade informada é inválida.\n"
     ]
    }
   ],
   "source": [
    "#pedir a idade\n",
    "idade= int(input(\"Informe a sua idade:\"))\n",
    "\n",
    "#exibir a informação\n",
    "if idade > 0 and idade <= 150:\n",
    "    print(\"A idade informada foi:\", idade)\n",
    "else:\n",
    "    print(\"A idade informada é inválida.\")"
   ]
  },
  {
   "cell_type": "code",
   "execution_count": 45,
   "metadata": {},
   "outputs": [
    {
     "name": "stdout",
     "output_type": "stream",
     "text": [
      "Soma dos números: 32.0\n",
      "Média dos números: 6.4\n"
     ]
    }
   ],
   "source": [
    "#lista para armazenar os números\n",
    "numeros= []\n",
    "\n",
    "#ler 5 números\n",
    "for i in range(5):\n",
    "    numero = float(input(\"Informe o {}º número: \".format(i + 1)))\n",
    "    numeros.append(numero)\n",
    "\n",
    "#calcula a soma dos números\n",
    "soma= sum(numeros)\n",
    "\n",
    "#calcula a média dos números\n",
    "media= soma / len(numeros)\n",
    "\n",
    "#exibe o resultado\n",
    "print(\"Soma dos números:\", soma)\n",
    "print(\"Média dos números:\", media)"
   ]
  },
  {
   "cell_type": "code",
   "execution_count": 48,
   "metadata": {},
   "outputs": [
    {
     "name": "stdout",
     "output_type": "stream",
     "text": [
      "3 é um número primo.\n"
     ]
    }
   ],
   "source": [
    "#verificar se é um número primo ou não\n",
    "def eh_primo(num):\n",
    "    if num <= 1:\n",
    "        return False\n",
    "    for i in range(2, int(num ** 0.5) + 1):\n",
    "        if num % i == 0:\n",
    "            return False\n",
    "    return True\n",
    "\n",
    "#solicitar o número\n",
    "num= int(input(\"Digite um número inteiro: \"))\n",
    "\n",
    "#exibir o resultado\n",
    "if eh_primo(num):\n",
    "    print(num, \"é um número primo.\")\n",
    "else:\n",
    "    print(num, \"não é um número primo.\")\n"
   ]
  },
  {
   "cell_type": "code",
   "execution_count": 53,
   "metadata": {},
   "outputs": [
    {
     "name": "stdout",
     "output_type": "stream",
     "text": [
      "Menor temperatura: 6.0\n",
      "Maior temperatura: 10.0\n",
      "Média das temperaturas: 8.0\n"
     ]
    }
   ],
   "source": [
    "#lista para armazenar as temperaturas\n",
    "temperaturas= []\n",
    "\n",
    "#ler 5 temperaturas\n",
    "for i in range(5):\n",
    "    temp= float(input(\"Informe a temperatura {}:\".format(i + 1)))\n",
    "    temperaturas.append(temp)\n",
    "\n",
    "#verificar a menor e a maior\n",
    "\n",
    "menorTemp = min(temperaturas)\n",
    "maiorTemp = max(temperaturas)\n",
    "\n",
    "#calcula a média das temperaturas\n",
    "mediaTemp= sum(temperaturas) / len(temperaturas)\n",
    "\n",
    "#resultados\n",
    "print(\"Menor temperatura:\", menorTemp)\n",
    "print(\"Maior temperatura:\", maiorTemp)\n",
    "print(\"Média das temperaturas:\", mediaTemp)\n"
   ]
  },
  {
   "cell_type": "code",
   "execution_count": null,
   "metadata": {},
   "outputs": [],
   "source": []
  }
 ],
 "metadata": {
  "kernelspec": {
   "display_name": "Python 3",
   "language": "python",
   "name": "python3"
  },
  "language_info": {
   "codemirror_mode": {
    "name": "ipython",
    "version": 3
   },
   "file_extension": ".py",
   "mimetype": "text/x-python",
   "name": "python",
   "nbconvert_exporter": "python",
   "pygments_lexer": "ipython3",
   "version": "3.12.1"
  }
 },
 "nbformat": 4,
 "nbformat_minor": 2
}
