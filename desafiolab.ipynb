{
 "cells": [
  {
   "cell_type": "code",
   "execution_count": 1,
   "metadata": {},
   "outputs": [
    {
     "name": "stdout",
     "output_type": "stream",
     "text": [
      "15.0\n",
      "32.5\n",
      "15.625\n"
     ]
    }
   ],
   "source": [
    "num1= int(input(\"Informe o primeiro número inteiro:\"))\n",
    "num2= int(input(\"Informe o segundo número inteiro:\"))\n",
    "\n",
    "real= float(input(\"Informe um número real:\"))\n",
    "\n",
    "#calculo do dobro do primeiro com metade do segundo\n",
    "\n",
    "calculoa= ((num1 * 2) + num2) / 2\n",
    "\n",
    "#soma do triplo do primeiro com o terceiro.\n",
    "#o terceiro elevado ao cubo.\n",
    "calculob= (num1 * 3) + real\n",
    "cubo= real ** 3\n",
    "\n",
    "print(calculoa)\n",
    "print(calculob)\n",
    "print(cubo)"
   ]
  },
  {
   "cell_type": "code",
   "execution_count": 14,
   "metadata": {},
   "outputs": [
    {
     "name": "stdout",
     "output_type": "stream",
     "text": [
      "O maior número foi 90\n"
     ]
    }
   ],
   "source": [
    "#programa que pede dois números e imprime o maior deles.\n",
    "\n",
    "num3= int(input(\"Informe o primeiro número :\"))\n",
    "num4= int(input(\"Informe o segundo número :\"))\n",
    "\n",
    "if (num3 > num4):\n",
    "    print(\"O maior número foi\",num3)\n",
    "else:\n",
    "    print(\"O maior número foi\",num4)"
   ]
  },
  {
   "cell_type": "code",
   "execution_count": null,
   "metadata": {},
   "outputs": [],
   "source": [
    "#programa que pede um valor e mostra na tela se o valor é positivo ou negativo.\n",
    "\n",
    "num10= int(input(\"Informe um número inteiro positivo ou negativo:\"))\n",
    "\n",
    "if (num10 < 0):\n",
    "    print(\"O número informado é negativo\")\n",
    "else:\n",
    "    print(\"O número informado é positivo\")"
   ]
  },
  {
   "cell_type": "code",
   "execution_count": 4,
   "metadata": {},
   "outputs": [
    {
     "name": "stdout",
     "output_type": "stream",
     "text": [
      "O aluno foi aprovado com média: 12.5\n"
     ]
    }
   ],
   "source": [
    "#programa para a leitura de duas notas parciais de um aluno. \n",
    "#calcular a média alcançada por aluno e apresentar o resultado \"Aprovado\" ou \"Reprovado\". Considere que a escola adota média 7.00.\n",
    "nota1= float(input(\"Informe a primeira nota:\"))\n",
    "nota2= float(input(\"Informe a segunda nota:\"))\n",
    "\n",
    "media= (nota1 + nota2) / 2\n",
    "\n",
    "if (media >= 7.00):\n",
    "    print(\"O aluno foi aprovado com média:\",media)\n",
    "else:\n",
    "    print(\"O aluno foi reprovado com a média:\",media)\n",
    "\n"
   ]
  },
  {
   "cell_type": "code",
   "execution_count": null,
   "metadata": {},
   "outputs": [],
   "source": [
    "#programa que lê três números e mostra o maior deles.\n",
    "\n",
    "num5= int(input(\"Informe o primeiro número :\"))\n",
    "num6= int(input(\"Informe o segundo número :\"))\n",
    "num7= int(input(\"Informe o terceiro número :\"))\n",
    "\n",
    "if (num5 >= num6 and num5 >= num7):\n",
    "    print(\"O maior número foi\",num5)\n",
    "elif (num6 >= num5 and num6 >= num7):\n",
    "    print(\"O maior número foi\",num6)\n",
    "else:\n",
    "    print(\"O maior número foi\",num7)"
   ]
  }
 ],
 "metadata": {
  "kernelspec": {
   "display_name": "Python 3",
   "language": "python",
   "name": "python3"
  },
  "language_info": {
   "codemirror_mode": {
    "name": "ipython",
    "version": 3
   },
   "file_extension": ".py",
   "mimetype": "text/x-python",
   "name": "python",
   "nbconvert_exporter": "python",
   "pygments_lexer": "ipython3",
   "version": "3.11.9"
  }
 },
 "nbformat": 4,
 "nbformat_minor": 2
}
