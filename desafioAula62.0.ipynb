{
 "cells": [
  {
   "cell_type": "code",
   "execution_count": 50,
   "metadata": {},
   "outputs": [
    {
     "name": "stdout",
     "output_type": "stream",
     "text": [
      "[76, 92.3, 'oi', True, 4, 76]\n"
     ]
    }
   ],
   "source": [
    "#criar uma lista chamada minhaLista\n",
    "minhaLista = [76, 92.3,'oi' , True, 4 ,76]\n",
    "print(minhaLista)"
   ]
  },
  {
   "cell_type": "code",
   "execution_count": 1,
   "metadata": {},
   "outputs": [
    {
     "name": "stdout",
     "output_type": "stream",
     "text": [
      "[76, 92.3, 'oi', True, 4, 76, 'pitomba', 76]\n"
     ]
    }
   ],
   "source": [
    "#Inserir pitomba e 76 no final\n",
    "minhaLista += 'pitomba', 76\n",
    "print(minhaLista)"
   ]
  },
  {
   "cell_type": "code",
   "execution_count": 45,
   "metadata": {},
   "outputs": [
    {
     "name": "stdout",
     "output_type": "stream",
     "text": [
      "[99, 76, 92.3, 'Cibele', 'True', 4, 76, 'pitomba', 76]\n"
     ]
    }
   ],
   "source": [
    "#Inserir Cibele na posição do índice 3.\n",
    "novaLista1 = minhaLista[0:3]\n",
    "novaLista2 = [\"Cibele\"]\n",
    "novaLista3 = [\"True\", 4, 76, \"pitomba\", 76]\n",
    "minhaLista2 = novaLista1 + novaLista2 + novaLista3\n",
    "print(minhaLista2)\n"
   ]
  },
  {
   "cell_type": "code",
   "execution_count": 16,
   "metadata": {},
   "outputs": [
    {
     "name": "stdout",
     "output_type": "stream",
     "text": [
      "[99, 76, 92.3, 'oi', 'Cibele', 'Cibele', True, 4]\n"
     ]
    }
   ],
   "source": [
    "#Inserir o valor 99 no inicio da lista\n",
    "minhaLista[0] = 99\n",
    "print(minhaLista)"
   ]
  },
  {
   "cell_type": "code",
   "execution_count": 54,
   "metadata": {},
   "outputs": [
    {
     "name": "stdout",
     "output_type": "stream",
     "text": [
      "True o oi está no índice 2\n"
     ]
    }
   ],
   "source": [
    "#encontrar o índice de \"oi\"\n",
    "\n",
    "if minhaLista[0] == 'oi':\n",
    "    print(True, \"o oi está no índice 0\")\n",
    "elif minhaLista[1] == 'oi':\n",
    "    print(True, 'o oi está no índice 1')\n",
    "elif minhaLista[2] == 'oi':\n",
    "    print(True, 'o oi está no índice 2')\n",
    "elif minhaLista[3] == 'oi':\n",
    "    print(True, 'o oi está no índice 3')\n",
    "elif minhaLista[4] == 'oi':\n",
    "    print(True, 'o oi está no índice 4')\n",
    "elif minhaLista[5] == 'oi':\n",
    "    print(True, 'o oi está no índice 5')\n",
    "elif minhaLista[6] == 'oi':\n",
    "    print(True, 'o oi está no índice 6')\n",
    "elif minhaLista[7] == 'oi':\n",
    "    print(True,'o oi está no índice 7')\n",
    "elif minhaLista[8] == 'oi':\n",
    "    print(True,'o oi está no índice 8')\n",
    "else: \n",
    "    print(True,'o oi está no índice 9')"
   ]
  },
  {
   "cell_type": "code",
   "execution_count": 55,
   "metadata": {},
   "outputs": [
    {
     "name": "stdout",
     "output_type": "stream",
     "text": [
      "[76, 92.3, 'oi', 4, 76]\n"
     ]
    }
   ],
   "source": [
    "minhaLista = [76, 92.3,'oi', True, 4 ,76]\n",
    "novaLista1 = minhaLista[0:3]\n",
    "novaLista2 = minhaLista[4:6]\n",
    "print(novaLista1 + novaLista2)"
   ]
  }
 ],
 "metadata": {
  "kernelspec": {
   "display_name": "Python 3",
   "language": "python",
   "name": "python3"
  },
  "language_info": {
   "codemirror_mode": {
    "name": "ipython",
    "version": 3
   },
   "file_extension": ".py",
   "mimetype": "text/x-python",
   "name": "python",
   "nbconvert_exporter": "python",
   "pygments_lexer": "ipython3",
   "version": "3.11.9"
  }
 },
 "nbformat": 4,
 "nbformat_minor": 2
}
